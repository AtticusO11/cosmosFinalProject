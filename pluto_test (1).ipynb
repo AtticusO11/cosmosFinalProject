{
 "cells": [
  {
   "cell_type": "code",
   "execution_count": 1,
   "id": "ea794648",
   "metadata": {},
   "outputs": [],
   "source": [
    "import adi \n",
    "# Make sure ADI is installed"
   ]
  },
  {
   "cell_type": "code",
   "execution_count": 2,
   "id": "740b3128",
   "metadata": {},
   "outputs": [
    {
     "name": "stdout",
     "output_type": "stream",
     "text": [
      "Unable to create Local IIO context : Function not implemented (78)\n",
      "Available contexts:\n",
      "\t0: 0456:b673 (Analog Devices Inc. PlutoSDR (ADALM-PLUTO)), serial=1044730a199700191b003300f2647cd2c1 [usb:0.9.5]\n"
     ]
    }
   ],
   "source": [
    "!iio_info -s"
   ]
  },
  {
   "cell_type": "code",
   "execution_count": 4,
   "id": "003a987a",
   "metadata": {},
   "outputs": [
    {
     "name": "stdout",
     "output_type": "stream",
     "text": [
      "RX LO 2400000000\n"
     ]
    }
   ],
   "source": [
    "# sdr = adi.Pluto(\"ip:192.168.2.1\")\n",
    "sdr = adi.Pluto(\"usb:0.9.5\")\n",
    "print(\"RX LO\", sdr.rx_lo)\n",
    "\n",
    "# If IP doesn't work, try USB given the output from iio_info -s"
   ]
  },
  {
   "cell_type": "code",
   "execution_count": null,
   "id": "68dea443",
   "metadata": {},
   "outputs": [],
   "source": []
  }
 ],
 "metadata": {
  "kernelspec": {
   "display_name": "cluster8_pyenv_v2",
   "language": "python",
   "name": "python3"
  },
  "language_info": {
   "codemirror_mode": {
    "name": "ipython",
    "version": 3
   },
   "file_extension": ".py",
   "mimetype": "text/x-python",
   "name": "python",
   "nbconvert_exporter": "python",
   "pygments_lexer": "ipython3",
   "version": "3.13.5"
  }
 },
 "nbformat": 4,
 "nbformat_minor": 5
}
